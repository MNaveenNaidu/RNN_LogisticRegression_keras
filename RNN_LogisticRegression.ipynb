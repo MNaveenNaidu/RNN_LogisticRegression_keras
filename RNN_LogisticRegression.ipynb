{
 "cells": [
  {
   "cell_type": "markdown",
   "metadata": {},
   "source": [
    "# RNN USING KERAS"
   ]
  },
  {
   "cell_type": "markdown",
   "metadata": {},
   "source": [
    "This is a implementation of RNN using keras framework. The dataset we are using is Banking domain which has around 10000 records. We need to Predict based on the independent varibale whether the user will leave the bank or more likely to stay and continue with the services offered by bank. Please find the dataset below somewhere attached."
   ]
  },
  {
   "cell_type": "raw",
   "metadata": {},
   "source": [
    "Import All Dataset"
   ]
  },
  {
   "cell_type": "code",
   "execution_count": 18,
   "metadata": {},
   "outputs": [],
   "source": [
    "import pandas as pd\n",
    "import matplotlib.pyplot as plt\n",
    "import numpy as np"
   ]
  },
  {
   "cell_type": "code",
   "execution_count": 46,
   "metadata": {},
   "outputs": [],
   "source": [
    "dataframe=pd.read_csv(\"C:\\\\Users\\\\IBM_ADMIN\\\\Downloads\\\\P14-Artificial-Neural-Networks\\\\Churn_Modelling.csv\")"
   ]
  },
  {
   "cell_type": "markdown",
   "metadata": {},
   "source": [
    "# Check the head of the Dataset using iloc"
   ]
  },
  {
   "cell_type": "code",
   "execution_count": 47,
   "metadata": {},
   "outputs": [
    {
     "data": {
      "text/html": [
       "<div>\n",
       "<style scoped>\n",
       "    .dataframe tbody tr th:only-of-type {\n",
       "        vertical-align: middle;\n",
       "    }\n",
       "\n",
       "    .dataframe tbody tr th {\n",
       "        vertical-align: top;\n",
       "    }\n",
       "\n",
       "    .dataframe thead th {\n",
       "        text-align: right;\n",
       "    }\n",
       "</style>\n",
       "<table border=\"1\" class=\"dataframe\">\n",
       "  <thead>\n",
       "    <tr style=\"text-align: right;\">\n",
       "      <th></th>\n",
       "      <th>RowNumber</th>\n",
       "      <th>CustomerId</th>\n",
       "      <th>Surname</th>\n",
       "      <th>CreditScore</th>\n",
       "      <th>Geography</th>\n",
       "      <th>Gender</th>\n",
       "      <th>Age</th>\n",
       "      <th>Tenure</th>\n",
       "      <th>Balance</th>\n",
       "      <th>NumOfProducts</th>\n",
       "      <th>HasCrCard</th>\n",
       "      <th>IsActiveMember</th>\n",
       "      <th>EstimatedSalary</th>\n",
       "      <th>Exited</th>\n",
       "    </tr>\n",
       "  </thead>\n",
       "  <tbody>\n",
       "    <tr>\n",
       "      <th>0</th>\n",
       "      <td>1</td>\n",
       "      <td>15634602</td>\n",
       "      <td>Hargrave</td>\n",
       "      <td>619</td>\n",
       "      <td>France</td>\n",
       "      <td>Female</td>\n",
       "      <td>42</td>\n",
       "      <td>2</td>\n",
       "      <td>0.00</td>\n",
       "      <td>1</td>\n",
       "      <td>1</td>\n",
       "      <td>1</td>\n",
       "      <td>101348.88</td>\n",
       "      <td>1</td>\n",
       "    </tr>\n",
       "    <tr>\n",
       "      <th>1</th>\n",
       "      <td>2</td>\n",
       "      <td>15647311</td>\n",
       "      <td>Hill</td>\n",
       "      <td>608</td>\n",
       "      <td>Spain</td>\n",
       "      <td>Female</td>\n",
       "      <td>41</td>\n",
       "      <td>1</td>\n",
       "      <td>83807.86</td>\n",
       "      <td>1</td>\n",
       "      <td>0</td>\n",
       "      <td>1</td>\n",
       "      <td>112542.58</td>\n",
       "      <td>0</td>\n",
       "    </tr>\n",
       "    <tr>\n",
       "      <th>2</th>\n",
       "      <td>3</td>\n",
       "      <td>15619304</td>\n",
       "      <td>Onio</td>\n",
       "      <td>502</td>\n",
       "      <td>France</td>\n",
       "      <td>Female</td>\n",
       "      <td>42</td>\n",
       "      <td>8</td>\n",
       "      <td>159660.80</td>\n",
       "      <td>3</td>\n",
       "      <td>1</td>\n",
       "      <td>0</td>\n",
       "      <td>113931.57</td>\n",
       "      <td>1</td>\n",
       "    </tr>\n",
       "    <tr>\n",
       "      <th>3</th>\n",
       "      <td>4</td>\n",
       "      <td>15701354</td>\n",
       "      <td>Boni</td>\n",
       "      <td>699</td>\n",
       "      <td>France</td>\n",
       "      <td>Female</td>\n",
       "      <td>39</td>\n",
       "      <td>1</td>\n",
       "      <td>0.00</td>\n",
       "      <td>2</td>\n",
       "      <td>0</td>\n",
       "      <td>0</td>\n",
       "      <td>93826.63</td>\n",
       "      <td>0</td>\n",
       "    </tr>\n",
       "    <tr>\n",
       "      <th>4</th>\n",
       "      <td>5</td>\n",
       "      <td>15737888</td>\n",
       "      <td>Mitchell</td>\n",
       "      <td>850</td>\n",
       "      <td>Spain</td>\n",
       "      <td>Female</td>\n",
       "      <td>43</td>\n",
       "      <td>2</td>\n",
       "      <td>125510.82</td>\n",
       "      <td>1</td>\n",
       "      <td>1</td>\n",
       "      <td>1</td>\n",
       "      <td>79084.10</td>\n",
       "      <td>0</td>\n",
       "    </tr>\n",
       "    <tr>\n",
       "      <th>5</th>\n",
       "      <td>6</td>\n",
       "      <td>15574012</td>\n",
       "      <td>Chu</td>\n",
       "      <td>645</td>\n",
       "      <td>Spain</td>\n",
       "      <td>Male</td>\n",
       "      <td>44</td>\n",
       "      <td>8</td>\n",
       "      <td>113755.78</td>\n",
       "      <td>2</td>\n",
       "      <td>1</td>\n",
       "      <td>0</td>\n",
       "      <td>149756.71</td>\n",
       "      <td>1</td>\n",
       "    </tr>\n",
       "  </tbody>\n",
       "</table>\n",
       "</div>"
      ],
      "text/plain": [
       "   RowNumber  CustomerId   Surname  CreditScore Geography  Gender  Age  \\\n",
       "0          1    15634602  Hargrave          619    France  Female   42   \n",
       "1          2    15647311      Hill          608     Spain  Female   41   \n",
       "2          3    15619304      Onio          502    France  Female   42   \n",
       "3          4    15701354      Boni          699    France  Female   39   \n",
       "4          5    15737888  Mitchell          850     Spain  Female   43   \n",
       "5          6    15574012       Chu          645     Spain    Male   44   \n",
       "\n",
       "   Tenure    Balance  NumOfProducts  HasCrCard  IsActiveMember  \\\n",
       "0       2       0.00              1          1               1   \n",
       "1       1   83807.86              1          0               1   \n",
       "2       8  159660.80              3          1               0   \n",
       "3       1       0.00              2          0               0   \n",
       "4       2  125510.82              1          1               1   \n",
       "5       8  113755.78              2          1               0   \n",
       "\n",
       "   EstimatedSalary  Exited  \n",
       "0        101348.88       1  \n",
       "1        112542.58       0  \n",
       "2        113931.57       1  \n",
       "3         93826.63       0  \n",
       "4         79084.10       0  \n",
       "5        149756.71       1  "
      ]
     },
     "execution_count": 47,
     "metadata": {},
     "output_type": "execute_result"
    }
   ],
   "source": [
    "dataframe.iloc[0:6,:]"
   ]
  },
  {
   "cell_type": "markdown",
   "metadata": {},
   "source": [
    "#Create Dummy variable of categorical columns"
   ]
  },
  {
   "cell_type": "code",
   "execution_count": 48,
   "metadata": {},
   "outputs": [],
   "source": [
    "dataframe=pd.get_dummies(dataframe,drop_first=True,columns=['Geography','Gender'])"
   ]
  },
  {
   "cell_type": "markdown",
   "metadata": {},
   "source": [
    "dataframe.iloc[0:4,:]"
   ]
  },
  {
   "cell_type": "markdown",
   "metadata": {},
   "source": [
    "#Store the dependent variable in a Datframe"
   ]
  },
  {
   "cell_type": "code",
   "execution_count": 51,
   "metadata": {},
   "outputs": [],
   "source": [
    "dataframe1=dataframe.iloc[:,-4]"
   ]
  },
  {
   "cell_type": "markdown",
   "metadata": {},
   "source": [
    "#Drop the Dependent variable form the origibnal dataframe so that only independent variables are there and its easy to convert them in a NDarray"
   ]
  },
  {
   "cell_type": "code",
   "execution_count": 53,
   "metadata": {},
   "outputs": [],
   "source": [
    "dataframe.drop(columns='Exited',inplace=True)"
   ]
  },
  {
   "cell_type": "markdown",
   "metadata": {},
   "source": [
    "#Create X & y ndarray"
   ]
  },
  {
   "cell_type": "code",
   "execution_count": 59,
   "metadata": {},
   "outputs": [],
   "source": [
    "X=dataframe.iloc[:,3:].values\n",
    "y=dataframe1.values"
   ]
  },
  {
   "cell_type": "markdown",
   "metadata": {},
   "source": [
    "#Import the pakage that splits the train and test dataset."
   ]
  },
  {
   "cell_type": "code",
   "execution_count": 63,
   "metadata": {},
   "outputs": [],
   "source": [
    "from sklearn.model_selection import train_test_split\n"
   ]
  },
  {
   "cell_type": "code",
   "execution_count": 64,
   "metadata": {},
   "outputs": [],
   "source": [
    "X_train,X_test,y_train,y_test=train_test_split(X,y,test_size=0.25,random_state=0)"
   ]
  },
  {
   "cell_type": "markdown",
   "metadata": {},
   "source": [
    "#Import the standard scalar package to scale the continous variable "
   ]
  },
  {
   "cell_type": "code",
   "execution_count": 67,
   "metadata": {},
   "outputs": [],
   "source": [
    "from sklearn.preprocessing import StandardScaler\n",
    "sc=StandardScaler()"
   ]
  },
  {
   "cell_type": "code",
   "execution_count": 70,
   "metadata": {},
   "outputs": [],
   "source": [
    "X_train=sc.fit_transform(X_train)\n",
    "X_test=sc.transform(X_test)"
   ]
  },
  {
   "cell_type": "code",
   "execution_count": 75,
   "metadata": {},
   "outputs": [],
   "source": [
    "import keras\n",
    "from keras.models import Sequential\n",
    "from keras.layers import Dense"
   ]
  },
  {
   "cell_type": "code",
   "execution_count": 76,
   "metadata": {},
   "outputs": [],
   "source": [
    "classifier=Sequential()"
   ]
  },
  {
   "cell_type": "markdown",
   "metadata": {},
   "source": [
    "#Create a 2 layer NN where \"Units\" define the o/p hidden layers, \"activation\" is the the activation function you want to use. \"kernal_initialiser\" is to initialise the weights other than 0, \"input_dims\" is the number of independent variables"
   ]
  },
  {
   "cell_type": "code",
   "execution_count": 78,
   "metadata": {},
   "outputs": [],
   "source": [
    "classifier.add(Dense(units=6,activation='relu',kernel_initializer='uniform',input_dim=11))\n",
    "classifier.add(Dense(units=6,activation='relu',kernel_initializer='uniform'))\n",
    "classifier.add(Dense(units=1,activation='sigmoid',kernel_initializer='uniform'))"
   ]
  },
  {
   "cell_type": "markdown",
   "metadata": {},
   "source": [
    "#Compile the classifier where \"optimiser\" can be ADAM, Momentum, RHMs, \"Loss\" is binary_crossentropy for binary output and for ordinal output use \"categorical_crossentropy\" ."
   ]
  },
  {
   "cell_type": "code",
   "execution_count": 79,
   "metadata": {},
   "outputs": [],
   "source": [
    "classifier.compile(optimizer='adam',loss='binary_crossentropy',metrics=['accuracy'])"
   ]
  },
  {
   "cell_type": "markdown",
   "metadata": {},
   "source": [
    "#Finally fit the classifier so with X_train, y_train, number of batch_size you want to use in each iterations and epochs(iteration) you want to perform."
   ]
  },
  {
   "cell_type": "code",
   "execution_count": 80,
   "metadata": {},
   "outputs": [
    {
     "name": "stdout",
     "output_type": "stream",
     "text": [
      "WARNING:tensorflow:From C:\\Users\\IBM_ADMIN\\Anaconda3\\lib\\site-packages\\tensorflow\\python\\ops\\math_ops.py:3066: to_int32 (from tensorflow.python.ops.math_ops) is deprecated and will be removed in a future version.\n",
      "Instructions for updating:\n",
      "Use tf.cast instead.\n",
      "Epoch 1/100\n",
      "7500/7500 [==============================] - 4s 537us/step - loss: 0.4830 - acc: 0.7957\n",
      "Epoch 2/100\n",
      "7500/7500 [==============================] - 2s 282us/step - loss: 0.4179 - acc: 0.7963\n",
      "Epoch 3/100\n",
      "7500/7500 [==============================] - 2s 217us/step - loss: 0.4051 - acc: 0.8164\n",
      "Epoch 4/100\n",
      "7500/7500 [==============================] - 2s 230us/step - loss: 0.3947 - acc: 0.8299\n",
      "Epoch 5/100\n",
      "7500/7500 [==============================] - 2s 219us/step - loss: 0.3858 - acc: 0.8317\n",
      "Epoch 6/100\n",
      "7500/7500 [==============================] - 2s 235us/step - loss: 0.3781 - acc: 0.8423\n",
      "Epoch 7/100\n",
      "7500/7500 [==============================] - 2s 239us/step - loss: 0.3724 - acc: 0.8469\n",
      "Epoch 8/100\n",
      "7500/7500 [==============================] - 2s 249us/step - loss: 0.3680 - acc: 0.8521\n",
      "Epoch 9/100\n",
      "7500/7500 [==============================] - 2s 226us/step - loss: 0.3652 - acc: 0.8536\n",
      "Epoch 10/100\n",
      "7500/7500 [==============================] - 2s 275us/step - loss: 0.3639 - acc: 0.8505\n",
      "Epoch 11/100\n",
      "7500/7500 [==============================] - 2s 232us/step - loss: 0.3625 - acc: 0.8531\n",
      "Epoch 12/100\n",
      "7500/7500 [==============================] - 2s 203us/step - loss: 0.3608 - acc: 0.8537\n",
      "Epoch 13/100\n",
      "7500/7500 [==============================] - 3s 353us/step - loss: 0.3606 - acc: 0.8557\n",
      "Epoch 14/100\n",
      "7500/7500 [==============================] - 2s 332us/step - loss: 0.3591 - acc: 0.8539\n",
      "Epoch 15/100\n",
      "7500/7500 [==============================] - 2s 255us/step - loss: 0.3588 - acc: 0.8548\n",
      "Epoch 16/100\n",
      "7500/7500 [==============================] - 2s 256us/step - loss: 0.3564 - acc: 0.8543\n",
      "Epoch 17/100\n",
      "7500/7500 [==============================] - 2s 245us/step - loss: 0.3556 - acc: 0.8561\n",
      "Epoch 18/100\n",
      "7500/7500 [==============================] - 2s 259us/step - loss: 0.3551 - acc: 0.8563\n",
      "Epoch 19/100\n",
      "7500/7500 [==============================] - 2s 245us/step - loss: 0.3540 - acc: 0.8555\n",
      "Epoch 20/100\n",
      "7500/7500 [==============================] - 2s 260us/step - loss: 0.3545 - acc: 0.8560\n",
      "Epoch 21/100\n",
      "7500/7500 [==============================] - 2s 251us/step - loss: 0.3540 - acc: 0.8556\n",
      "Epoch 22/100\n",
      "7500/7500 [==============================] - 2s 219us/step - loss: 0.3530 - acc: 0.8559\n",
      "Epoch 23/100\n",
      "7500/7500 [==============================] - 2s 222us/step - loss: 0.3532 - acc: 0.8577\n",
      "Epoch 24/100\n",
      "7500/7500 [==============================] - 2s 220us/step - loss: 0.3538 - acc: 0.8561\n",
      "Epoch 25/100\n",
      "7500/7500 [==============================] - 2s 217us/step - loss: 0.3530 - acc: 0.8593\n",
      "Epoch 26/100\n",
      "7500/7500 [==============================] - 2s 212us/step - loss: 0.3524 - acc: 0.8584\n",
      "Epoch 27/100\n",
      "7500/7500 [==============================] - 2s 281us/step - loss: 0.3519 - acc: 0.8573\n",
      "Epoch 28/100\n",
      "7500/7500 [==============================] - 2s 298us/step - loss: 0.3525 - acc: 0.8595\n",
      "Epoch 29/100\n",
      "7500/7500 [==============================] - 2s 263us/step - loss: 0.3519 - acc: 0.8553\n",
      "Epoch 30/100\n",
      "7500/7500 [==============================] - 3s 354us/step - loss: 0.3512 - acc: 0.8567\n",
      "Epoch 31/100\n",
      "7500/7500 [==============================] - 2s 302us/step - loss: 0.3513 - acc: 0.8587\n",
      "Epoch 32/100\n",
      "7500/7500 [==============================] - 2s 227us/step - loss: 0.3522 - acc: 0.8611\n",
      "Epoch 33/100\n",
      "7500/7500 [==============================] - 2s 212us/step - loss: 0.3503 - acc: 0.8592\n",
      "Epoch 34/100\n",
      "7500/7500 [==============================] - 2s 279us/step - loss: 0.3511 - acc: 0.8588\n",
      "Epoch 35/100\n",
      "7500/7500 [==============================] - 2s 229us/step - loss: 0.3514 - acc: 0.8580\n",
      "Epoch 36/100\n",
      "7500/7500 [==============================] - 2s 238us/step - loss: 0.3509 - acc: 0.8573\n",
      "Epoch 37/100\n",
      "7500/7500 [==============================] - 2s 213us/step - loss: 0.3506 - acc: 0.8584\n",
      "Epoch 38/100\n",
      "7500/7500 [==============================] - 2s 212us/step - loss: 0.3507 - acc: 0.8557\n",
      "Epoch 39/100\n",
      "7500/7500 [==============================] - 2s 212us/step - loss: 0.3503 - acc: 0.8579\n",
      "Epoch 40/100\n",
      "7500/7500 [==============================] - 2s 218us/step - loss: 0.3500 - acc: 0.8573\n",
      "Epoch 41/100\n",
      "7500/7500 [==============================] - 2s 217us/step - loss: 0.3495 - acc: 0.8576\n",
      "Epoch 42/100\n",
      "7500/7500 [==============================] - 2s 232us/step - loss: 0.3500 - acc: 0.8569\n",
      "Epoch 43/100\n",
      "7500/7500 [==============================] - 2s 232us/step - loss: 0.3497 - acc: 0.8581\n",
      "Epoch 44/100\n",
      "7500/7500 [==============================] - 2s 235us/step - loss: 0.3493 - acc: 0.8551\n",
      "Epoch 45/100\n",
      "7500/7500 [==============================] - 2s 222us/step - loss: 0.3498 - acc: 0.8588\n",
      "Epoch 46/100\n",
      "7500/7500 [==============================] - 2s 245us/step - loss: 0.3500 - acc: 0.8600\n",
      "Epoch 47/100\n",
      "7500/7500 [==============================] - 2s 222us/step - loss: 0.3488 - acc: 0.8596\n",
      "Epoch 48/100\n",
      "7500/7500 [==============================] - 2s 245us/step - loss: 0.3504 - acc: 0.8607\n",
      "Epoch 49/100\n",
      "7500/7500 [==============================] - 2s 240us/step - loss: 0.3499 - acc: 0.8560\n",
      "Epoch 50/100\n",
      "7500/7500 [==============================] - 2s 224us/step - loss: 0.3492 - acc: 0.8535\n",
      "Epoch 51/100\n",
      "7500/7500 [==============================] - 2s 215us/step - loss: 0.3486 - acc: 0.8588\n",
      "Epoch 52/100\n",
      "7500/7500 [==============================] - 2s 210us/step - loss: 0.3495 - acc: 0.8575\n",
      "Epoch 53/100\n",
      "7500/7500 [==============================] - 2s 205us/step - loss: 0.3482 - acc: 0.8579\n",
      "Epoch 54/100\n",
      "7500/7500 [==============================] - 2s 202us/step - loss: 0.3476 - acc: 0.8563\n",
      "Epoch 55/100\n",
      "7500/7500 [==============================] - 2s 217us/step - loss: 0.3478 - acc: 0.8599\n",
      "Epoch 56/100\n",
      "7500/7500 [==============================] - 1s 200us/step - loss: 0.3487 - acc: 0.8603\n",
      "Epoch 57/100\n",
      "7500/7500 [==============================] - 1s 197us/step - loss: 0.3485 - acc: 0.8615\n",
      "Epoch 58/100\n",
      "7500/7500 [==============================] - 1s 199us/step - loss: 0.3479 - acc: 0.8588\n",
      "Epoch 59/100\n",
      "7500/7500 [==============================] - 2s 241us/step - loss: 0.3479 - acc: 0.8613\n",
      "Epoch 60/100\n",
      "7500/7500 [==============================] - 2s 273us/step - loss: 0.3479 - acc: 0.8595\n",
      "Epoch 61/100\n",
      "7500/7500 [==============================] - 2s 277us/step - loss: 0.3478 - acc: 0.8611\n",
      "Epoch 62/100\n",
      "7500/7500 [==============================] - 2s 228us/step - loss: 0.3476 - acc: 0.8600\n",
      "Epoch 63/100\n",
      "7500/7500 [==============================] - 2s 235us/step - loss: 0.3474 - acc: 0.8573\n",
      "Epoch 64/100\n",
      "7500/7500 [==============================] - 2s 234us/step - loss: 0.3480 - acc: 0.8585\n",
      "Epoch 65/100\n",
      "7500/7500 [==============================] - 2s 224us/step - loss: 0.3482 - acc: 0.8579\n",
      "Epoch 66/100\n",
      "7500/7500 [==============================] - 2s 321us/step - loss: 0.3476 - acc: 0.8583\n",
      "Epoch 67/100\n",
      "7500/7500 [==============================] - 2s 240us/step - loss: 0.3484 - acc: 0.8588\n",
      "Epoch 68/100\n",
      "7500/7500 [==============================] - 1s 192us/step - loss: 0.3476 - acc: 0.8591\n",
      "Epoch 69/100\n",
      "7500/7500 [==============================] - 1s 161us/step - loss: 0.3477 - acc: 0.8585\n",
      "Epoch 70/100\n",
      "7500/7500 [==============================] - 1s 186us/step - loss: 0.3479 - acc: 0.8569\n",
      "Epoch 71/100\n",
      "7500/7500 [==============================] - 2s 324us/step - loss: 0.3455 - acc: 0.8609\n",
      "Epoch 72/100\n",
      "7500/7500 [==============================] - 2s 221us/step - loss: 0.3472 - acc: 0.8600\n",
      "Epoch 73/100\n",
      "7500/7500 [==============================] - 1s 139us/step - loss: 0.3474 - acc: 0.8596\n",
      "Epoch 74/100\n",
      "7500/7500 [==============================] - 1s 187us/step - loss: 0.3483 - acc: 0.8580\n",
      "Epoch 75/100\n",
      "7500/7500 [==============================] - 1s 147us/step - loss: 0.3474 - acc: 0.8593\n",
      "Epoch 76/100\n",
      "7500/7500 [==============================] - 1s 162us/step - loss: 0.3479 - acc: 0.8583\n",
      "Epoch 77/100\n",
      "7500/7500 [==============================] - 2s 229us/step - loss: 0.3464 - acc: 0.8621\n",
      "Epoch 78/100\n",
      "7500/7500 [==============================] - 1s 174us/step - loss: 0.3478 - acc: 0.8583\n",
      "Epoch 79/100\n"
     ]
    },
    {
     "name": "stdout",
     "output_type": "stream",
     "text": [
      "7500/7500 [==============================] - 1s 133us/step - loss: 0.3469 - acc: 0.8608\n",
      "Epoch 80/100\n",
      "7500/7500 [==============================] - 1s 138us/step - loss: 0.3475 - acc: 0.8576\n",
      "Epoch 81/100\n",
      "7500/7500 [==============================] - 1s 134us/step - loss: 0.3479 - acc: 0.8583\n",
      "Epoch 82/100\n",
      "7500/7500 [==============================] - 1s 141us/step - loss: 0.3464 - acc: 0.8604\n",
      "Epoch 83/100\n",
      "7500/7500 [==============================] - 1s 177us/step - loss: 0.3467 - acc: 0.8603\n",
      "Epoch 84/100\n",
      "7500/7500 [==============================] - 1s 154us/step - loss: 0.3473 - acc: 0.8596\n",
      "Epoch 85/100\n",
      "7500/7500 [==============================] - 1s 137us/step - loss: 0.3463 - acc: 0.8587\n",
      "Epoch 86/100\n",
      "7500/7500 [==============================] - 1s 133us/step - loss: 0.3467 - acc: 0.8609\n",
      "Epoch 87/100\n",
      "7500/7500 [==============================] - 1s 130us/step - loss: 0.3468 - acc: 0.8573\n",
      "Epoch 88/100\n",
      "7500/7500 [==============================] - 1s 127us/step - loss: 0.3457 - acc: 0.8601\n",
      "Epoch 89/100\n",
      "7500/7500 [==============================] - 1s 135us/step - loss: 0.3468 - acc: 0.8599\n",
      "Epoch 90/100\n",
      "7500/7500 [==============================] - 1s 135us/step - loss: 0.3455 - acc: 0.8597\n",
      "Epoch 91/100\n",
      "7500/7500 [==============================] - 1s 139us/step - loss: 0.3465 - acc: 0.8621\n",
      "Epoch 92/100\n",
      "7500/7500 [==============================] - 1s 136us/step - loss: 0.3477 - acc: 0.8587\n",
      "Epoch 93/100\n",
      "7500/7500 [==============================] - 1s 173us/step - loss: 0.3458 - acc: 0.8591\n",
      "Epoch 94/100\n",
      "7500/7500 [==============================] - 1s 137us/step - loss: 0.3465 - acc: 0.8605\n",
      "Epoch 95/100\n",
      "7500/7500 [==============================] - 1s 140us/step - loss: 0.3452 - acc: 0.8599 1s - loss: \n",
      "Epoch 96/100\n",
      "7500/7500 [==============================] - 1s 130us/step - loss: 0.3462 - acc: 0.8592\n",
      "Epoch 97/100\n",
      "7500/7500 [==============================] - 1s 132us/step - loss: 0.3451 - acc: 0.8596\n",
      "Epoch 98/100\n",
      "7500/7500 [==============================] - 1s 131us/step - loss: 0.3455 - acc: 0.8621\n",
      "Epoch 99/100\n",
      "7500/7500 [==============================] - 1s 133us/step - loss: 0.3456 - acc: 0.8576 0s - loss: 0.\n",
      "Epoch 100/100\n",
      "7500/7500 [==============================] - 1s 144us/step - loss: 0.3456 - acc: 0.8589\n"
     ]
    },
    {
     "data": {
      "text/plain": [
       "<keras.callbacks.History at 0x21dd0160>"
      ]
     },
     "execution_count": 80,
     "metadata": {},
     "output_type": "execute_result"
    }
   ],
   "source": [
    "classifier.fit(X_train,y_train,batch_size=10,epochs=100)"
   ]
  },
  {
   "cell_type": "markdown",
   "metadata": {},
   "source": [
    "#We can see that post 100 epochs the accuracy is 86%. gr8!"
   ]
  },
  {
   "cell_type": "markdown",
   "metadata": {},
   "source": [
    "#Predict for the test dataset"
   ]
  },
  {
   "cell_type": "code",
   "execution_count": 89,
   "metadata": {},
   "outputs": [],
   "source": [
    "y_pred=classifier.predict(X_test)"
   ]
  },
  {
   "cell_type": "code",
   "execution_count": null,
   "metadata": {},
   "outputs": [],
   "source": [
    "#Convert all the probability values to true or false"
   ]
  },
  {
   "cell_type": "code",
   "execution_count": 101,
   "metadata": {},
   "outputs": [],
   "source": [
    "y_pred=y_pred>0.5"
   ]
  },
  {
   "cell_type": "code",
   "execution_count": 102,
   "metadata": {},
   "outputs": [
    {
     "data": {
      "text/plain": [
       "array([[False],\n",
       "       [False],\n",
       "       [False],\n",
       "       ...,\n",
       "       [False],\n",
       "       [False],\n",
       "       [False]])"
      ]
     },
     "execution_count": 102,
     "metadata": {},
     "output_type": "execute_result"
    }
   ],
   "source": [
    "y_pred"
   ]
  },
  {
   "cell_type": "code",
   "execution_count": 96,
   "metadata": {},
   "outputs": [],
   "source": [
    "from sklearn.metrics import confusion_matrix"
   ]
  },
  {
   "cell_type": "code",
   "execution_count": null,
   "metadata": {},
   "outputs": [],
   "source": [
    "#Import and check the accuracy of your n/w on test set."
   ]
  },
  {
   "cell_type": "code",
   "execution_count": 103,
   "metadata": {},
   "outputs": [],
   "source": [
    "cm=confusion_matrix(y_test,y_pred)"
   ]
  },
  {
   "cell_type": "code",
   "execution_count": 104,
   "metadata": {},
   "outputs": [
    {
     "data": {
      "text/plain": [
       "array([[1879,  112],\n",
       "       [ 244,  265]], dtype=int64)"
      ]
     },
     "execution_count": 104,
     "metadata": {},
     "output_type": "execute_result"
    }
   ],
   "source": [
    "cm"
   ]
  },
  {
   "cell_type": "code",
   "execution_count": 100,
   "metadata": {},
   "outputs": [
    {
     "data": {
      "text/plain": [
       "0.8576"
      ]
     },
     "execution_count": 100,
     "metadata": {},
     "output_type": "execute_result"
    }
   ],
   "source": [
    "(1879+265)/(1879+112+244+265)"
   ]
  }
 ],
 "metadata": {
  "kernelspec": {
   "display_name": "Python 3",
   "language": "python",
   "name": "python3"
  },
  "language_info": {
   "codemirror_mode": {
    "name": "ipython",
    "version": 3
   },
   "file_extension": ".py",
   "mimetype": "text/x-python",
   "name": "python",
   "nbconvert_exporter": "python",
   "pygments_lexer": "ipython3",
   "version": "3.7.1"
  }
 },
 "nbformat": 4,
 "nbformat_minor": 2
}
